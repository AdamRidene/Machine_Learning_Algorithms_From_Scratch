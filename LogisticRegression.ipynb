{
 "cells": [
  {
   "cell_type": "markdown",
   "metadata": {},
   "source": [
    "# Logistic Regression"
   ]
  },
  {
   "cell_type": "code",
   "execution_count": 1,
   "metadata": {},
   "outputs": [],
   "source": [
    "import numpy as np"
   ]
  },
  {
   "cell_type": "code",
   "execution_count": 3,
   "metadata": {},
   "outputs": [],
   "source": [
    "def sigmoid(z):\n",
    "    return 1/(1+np.exp(-z))"
   ]
  },
  {
   "cell_type": "code",
   "execution_count": 1,
   "metadata": {},
   "outputs": [
    {
     "ename": "SyntaxError",
     "evalue": "invalid syntax. Perhaps you forgot a comma? (160344250.py, line 21)",
     "output_type": "error",
     "traceback": [
      "\u001b[1;36m  Cell \u001b[1;32mIn[1], line 21\u001b[1;36m\u001b[0m\n\u001b[1;33m    class_predictions=[0 if y<0.5 else 1 y in y_pred]\u001b[0m\n\u001b[1;37m                                       ^\u001b[0m\n\u001b[1;31mSyntaxError\u001b[0m\u001b[1;31m:\u001b[0m invalid syntax. Perhaps you forgot a comma?\n"
     ]
    }
   ],
   "source": [
    "class LogisticRegression():\n",
    "    def __init__(self,alpha:float,n_iter:int):\n",
    "        self.alpha=alpha\n",
    "        self.n_iter=n_iter\n",
    "        self.weights=None\n",
    "        self.bias=None\n",
    "    def fit(self,X,y):\n",
    "        n_samples,n_features=X.shape\n",
    "        self.weights=np.zeros(n_features)\n",
    "        self.bias=0\n",
    "        for i in range(self.n_iter):#calculating gradient descent\n",
    "            function=np.dot(X,self.weights)+self.bias#The result is a 1D array where each element corresponds to the linear output for a sample.\n",
    "            predictions=sigmoid(function)#The sigmoid function transforms the linear outputs to values between 0 and 1 that represents probabilites\n",
    "            dw=(1/n_samples)*np.dot(X.Transpose(),(predictions-y))\n",
    "            db=(1/n_samples)*np.sum(predictions-y)\n",
    "            self.weights=self.weights-self.alpha*dw\n",
    "            self.bias=self.bias-self.alpha*db\n",
    "    def predict(self,X):\n",
    "        function=np.dot(X,self.weights)+self.bias\n",
    "        y_pred=sigmoid(function)\n",
    "        class_predictions=[0 if y<0.5 else 1 for y in y_pred]\n",
    "        return class_predictions\n",
    "\n",
    "\n",
    "\n"
   ]
  }
 ],
 "metadata": {
  "kernelspec": {
   "display_name": "Python 3",
   "language": "python",
   "name": "python3"
  },
  "language_info": {
   "codemirror_mode": {
    "name": "ipython",
    "version": 3
   },
   "file_extension": ".py",
   "mimetype": "text/x-python",
   "name": "python",
   "nbconvert_exporter": "python",
   "pygments_lexer": "ipython3",
   "version": "3.12.2"
  }
 },
 "nbformat": 4,
 "nbformat_minor": 2
}
